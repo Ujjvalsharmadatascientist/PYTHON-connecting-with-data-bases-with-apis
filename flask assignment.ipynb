{
 "cells": [
  {
   "cell_type": "raw",
   "id": "f3df7d36-9ed1-47fa-87fe-4e353efe298b",
   "metadata": {},
   "source": [
    "What is Flask Framework? What are the advantages of Flask Framework?"
   ]
  },
  {
   "cell_type": "raw",
   "id": "c01ad8a1-428e-4e03-930e-131ec2dae444",
   "metadata": {},
   "source": [
    "Flask is a Python-based, open-source web framework that helps developers build web applications quickly and easily. It's known for being simple and flexible, and is suitable for both small projects and larger applications.  \n",
    "\n",
    "some advantages of Flask:\n",
    "\n",
    "Scalability: Flask is easily scalable for applications with good data storage support.\n",
    "Unit testing: Flask has integrated support for unit testing, which provides developers with instant feedback about their code.\n",
    "Built-in development server: Flask offers a built-in development server and fast debugger.\n",
    "Secure cookies: Flask supports secure cookies.\n",
    "API support: Flask supports API and open authentication systems.\n",
    "Form validation extensions: Flask provides extensions for form validation.\n",
    "Small codebase: Flask requires a small codebase size to perform simple functions. "
   ]
  },
  {
   "cell_type": "raw",
   "id": "9ad6f8e0-2af3-47e9-bc7c-5c576043cd62",
   "metadata": {},
   "source": [
    "Q2. Create a simple Flask application to display ‘Hello World!!’. Attach the screenshot of the output in\n",
    "Jupyter Notebook."
   ]
  },
  {
   "cell_type": "code",
   "execution_count": 2,
   "id": "9c05c0bc-3570-45cd-ab07-1a40472c8831",
   "metadata": {},
   "outputs": [
    {
     "ename": "ModuleNotFoundError",
     "evalue": "No module named 'flask'",
     "output_type": "error",
     "traceback": [
      "\u001b[0;31m---------------------------------------------------------------------------\u001b[0m",
      "\u001b[0;31mModuleNotFoundError\u001b[0m                       Traceback (most recent call last)",
      "Cell \u001b[0;32mIn[2], line 1\u001b[0m\n\u001b[0;32m----> 1\u001b[0m \u001b[38;5;28;01mfrom\u001b[39;00m \u001b[38;5;21;01mflask\u001b[39;00m \u001b[38;5;28;01mimport\u001b[39;00m Flask\n\u001b[1;32m      2\u001b[0m \u001b[38;5;28;01mfrom\u001b[39;00m \u001b[38;5;21;01mflask\u001b[39;00m \u001b[38;5;28;01mimport\u001b[39;00m request\n\u001b[1;32m      4\u001b[0m app \u001b[38;5;241m=\u001b[39m Flask(\u001b[38;5;18m__name__\u001b[39m)\n",
      "\u001b[0;31mModuleNotFoundError\u001b[0m: No module named 'flask'"
     ]
    }
   ],
   "source": [
    "from flask import Flask\n",
    "from flask import request\n",
    "\n",
    "app = Flask(__name__)\n",
    "\n",
    "@app.route(\"/\")\n",
    "def hello_world():\n",
    "    return \"<h1>Hello, World!</h1>\"\n",
    "\n",
    "\n",
    "@app.route(\"/hello_world1\")\n",
    "def hello_world1():\n",
    "    return \"<h1>Hello, World!1</h1>\"\n",
    "\n",
    "\n",
    "@app.route(\"/hello_world2\")\n",
    "def hello_world2():\n",
    "    return \"<h1>Hello, World!2</h1>\"\n",
    "\n",
    "@app.route(\"/test\")\n",
    "def test():\n",
    "    a = 5+6 \n",
    "    return \"this is my function to run app {}\".format(a)\n",
    "\n",
    "@app.route(\"/test2/test2\")\n",
    "def test2():\n",
    "    data = request.args.get('x')\n",
    "    return  \"this is a data input form my url {}\".format(data)\n",
    "\n",
    "if __name__==\"__main__\":\n",
    "    app.run(host=\"0.0.0.0\")"
   ]
  },
  {
   "cell_type": "code",
   "execution_count": 3,
   "id": "c85e4528-926f-4b22-8f31-9ff9e35e1204",
   "metadata": {},
   "outputs": [
    {
     "name": "stdout",
     "output_type": "stream",
     "text": [
      "Object `routes` not found.\n"
     ]
    }
   ],
   "source": [
    "Q3. What is App routing in Flask? Why do we use app routes?"
   ]
  },
  {
   "cell_type": "code",
   "execution_count": 4,
   "id": "64b53881-364d-41c3-a847-3e5395955352",
   "metadata": {},
   "outputs": [
    {
     "ename": "NameError",
     "evalue": "name 'app' is not defined",
     "output_type": "error",
     "traceback": [
      "\u001b[0;31m---------------------------------------------------------------------------\u001b[0m",
      "\u001b[0;31mNameError\u001b[0m                                 Traceback (most recent call last)",
      "Cell \u001b[0;32mIn[4], line 1\u001b[0m\n\u001b[0;32m----> 1\u001b[0m \u001b[38;5;129m@app\u001b[39m\u001b[38;5;241m.\u001b[39mroute(\u001b[38;5;124m\"\u001b[39m\u001b[38;5;124m/user/<username>\u001b[39m\u001b[38;5;124m\"\u001b[39m)\n\u001b[1;32m      2\u001b[0m \u001b[38;5;28;01mdef\u001b[39;00m \u001b[38;5;21mshow_user\u001b[39m(username):\n\u001b[1;32m      3\u001b[0m     \u001b[38;5;28;01mreturn\u001b[39;00m \u001b[38;5;124mf\u001b[39m\u001b[38;5;124m\"\u001b[39m\u001b[38;5;124mHello, \u001b[39m\u001b[38;5;132;01m{\u001b[39;00musername\u001b[38;5;132;01m}\u001b[39;00m\u001b[38;5;124m!\u001b[39m\u001b[38;5;124m\"\u001b[39m\n",
      "\u001b[0;31mNameError\u001b[0m: name 'app' is not defined"
     ]
    }
   ],
   "source": [
    "@app.route(\"/user/<username>\")\n",
    "def show_user(username):\n",
    "    return f\"Hello, {username}!\""
   ]
  },
  {
   "cell_type": "raw",
   "id": "8abeab63-7436-494e-91f7-f880a4d88a45",
   "metadata": {},
   "source": [
    "Q4. Create a “/welcome” route to display the welcome message “Welcome to ABC Corporation” and a “/”\n",
    "route to show the following details:"
   ]
  },
  {
   "cell_type": "code",
   "execution_count": 9,
   "id": "aea99e93-10cd-4d45-a931-c6573e3df7e2",
   "metadata": {},
   "outputs": [
    {
     "ename": "ModuleNotFoundError",
     "evalue": "No module named 'django'",
     "output_type": "error",
     "traceback": [
      "\u001b[0;31m---------------------------------------------------------------------------\u001b[0m",
      "\u001b[0;31mModuleNotFoundError\u001b[0m                       Traceback (most recent call last)",
      "Cell \u001b[0;32mIn[9], line 1\u001b[0m\n\u001b[0;32m----> 1\u001b[0m \u001b[38;5;28;01mfrom\u001b[39;00m \u001b[38;5;21;01mdjango\u001b[39;00m\u001b[38;5;21;01m.\u001b[39;00m\u001b[38;5;21;01mhttp\u001b[39;00m \u001b[38;5;28;01mimport\u001b[39;00m HttpResponse\n\u001b[1;32m      3\u001b[0m \u001b[38;5;28;01mdef\u001b[39;00m \u001b[38;5;21mwelcome\u001b[39m(request):\n\u001b[1;32m      4\u001b[0m     \u001b[38;5;28;01mreturn\u001b[39;00m HttpResponse(\u001b[38;5;124m\"\u001b[39m\u001b[38;5;124mWelcome to ABC Corporation\u001b[39m\u001b[38;5;124m\"\u001b[39m)\n",
      "\u001b[0;31mModuleNotFoundError\u001b[0m: No module named 'django'"
     ]
    }
   ],
   "source": [
    "from django.http import HttpResponse\n",
    "\n",
    "def welcome(request):\n",
    "    return HttpResponse(\"Welcome to ABC Corporation\")\n",
    "\n",
    "def index(request):\n",
    "    return HttpResponse(\"\"\"\n",
    "    <h1>ABC Corporation</h1>\n",
    "    <p>This is the home page of ABC Corporation.</p>\n",
    "    \"\"\")\n",
    "\n",
    "urlpatterns = [\n",
    "    path('welcome/', welcome),\n",
    "    path('', index),\n",
    "]"
   ]
  },
  {
   "cell_type": "code",
   "execution_count": 10,
   "id": "bedc0ec9-04b6-4061-86e6-3a8109d70d51",
   "metadata": {},
   "outputs": [
    {
     "name": "stdout",
     "output_type": "stream",
     "text": [
      "Requirement already satisfied: pymongo in /opt/conda/lib/python3.10/site-packages (4.7.1)\n",
      "Requirement already satisfied: dnspython<3.0.0,>=1.16.0 in /opt/conda/lib/python3.10/site-packages (from pymongo) (2.6.1)\n",
      "Note: you may need to restart the kernel to use updated packages.\n"
     ]
    }
   ],
   "source": [
    "pip install pymongo\n"
   ]
  },
  {
   "cell_type": "code",
   "execution_count": null,
   "id": "41eb2f1c-750c-4eef-93b3-4e4015725fe5",
   "metadata": {},
   "outputs": [],
   "source": []
  }
 ],
 "metadata": {
  "kernelspec": {
   "display_name": "Python 3 (ipykernel)",
   "language": "python",
   "name": "python3"
  },
  "language_info": {
   "codemirror_mode": {
    "name": "ipython",
    "version": 3
   },
   "file_extension": ".py",
   "mimetype": "text/x-python",
   "name": "python",
   "nbconvert_exporter": "python",
   "pygments_lexer": "ipython3",
   "version": "3.10.8"
  }
 },
 "nbformat": 4,
 "nbformat_minor": 5
}
