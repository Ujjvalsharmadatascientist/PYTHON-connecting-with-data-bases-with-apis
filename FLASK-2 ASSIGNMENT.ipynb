{
 "cells": [
  {
   "cell_type": "raw",
   "id": "304e7e84-95f1-41d3-a8c4-99c1e0cbcd4c",
   "metadata": {},
   "source": [
    "Q1. Explain GET and POST methods."
   ]
  },
  {
   "cell_type": "raw",
   "id": "b8fda512-8d9a-43b2-b1b6-0c9a789f3399",
   "metadata": {},
   "source": [
    "GET and POST are two common HTTP methods used to transfer data from a client to a server. GET is used to request data from a specified resource, while POST is used to send data to a server to create or update a resource."
   ]
  },
  {
   "cell_type": "markdown",
   "id": "b551fdf4-b3cd-4262-a0bc-6f85d8ccd3fc",
   "metadata": {},
   "source": [
    "Q2. Why is request used in Flask?"
   ]
  },
  {
   "cell_type": "markdown",
   "id": "6723aab3-1ab3-49ea-89dd-74e3450cbd5b",
   "metadata": {},
   "source": [
    "@app.route(\"/\")\n",
    "def index():\n",
    "    # Get the request method\n",
    "    request_method = request.method\n",
    "\n",
    "    # Get the request headers\n",
    "    request_headers = request.headers\n",
    "\n",
    "    # Get the request cookies\n",
    "    request_cookies = request.cookies\n",
    "\n",
    "    # Get the request body\n",
    "    request_body = request.data\n",
    "\n",
    "    # Do something with the request data\n",
    "    # ...\n",
    "\n",
    "    return \"Hello, World"
   ]
  },
  {
   "cell_type": "code",
   "execution_count": 3,
   "id": "9286c920-8161-4bb5-a445-cbcd9669e4f2",
   "metadata": {},
   "outputs": [
    {
     "name": "stdout",
     "output_type": "stream",
     "text": [
      "Object `Flask` not found.\n"
     ]
    }
   ],
   "source": [
    "Q3. Why is redirect() used in Flask?"
   ]
  },
  {
   "cell_type": "raw",
   "id": "9ee428fd-2b69-4bd7-82ce-456e10c61fb6",
   "metadata": {},
   "source": [
    "​​The redirect() function in the Flask class redirects the user to a specified URL(Uniform Resource locator) with the provided status code. An HTTP status code is the server's response to the browser's request"
   ]
  },
  {
   "cell_type": "raw",
   "id": "ee35ef8c-01ad-478f-94b3-f13ba1129f5b",
   "metadata": {},
   "source": [
    "Q4. What are templates in Flask? Why is the render_template() function used?"
   ]
  },
  {
   "cell_type": "code",
   "execution_count": null,
   "id": "253d4836-99f0-4a0d-8592-9cf1cb1c50d7",
   "metadata": {},
   "outputs": [],
   "source": [
    "render_template is a Flask function from the flask. templating package. render_template is used to generate output from a template file based on the Jinja2 engine that is found in the application's templates folder. Note that render_template is typically imported directly from the flask package instead of from flask."
   ]
  }
 ],
 "metadata": {
  "kernelspec": {
   "display_name": "Python 3 (ipykernel)",
   "language": "python",
   "name": "python3"
  },
  "language_info": {
   "codemirror_mode": {
    "name": "ipython",
    "version": 3
   },
   "file_extension": ".py",
   "mimetype": "text/x-python",
   "name": "python",
   "nbconvert_exporter": "python",
   "pygments_lexer": "ipython3",
   "version": "3.10.8"
  }
 },
 "nbformat": 4,
 "nbformat_minor": 5
}
